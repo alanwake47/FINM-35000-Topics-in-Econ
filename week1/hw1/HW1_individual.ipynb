{
 "cells": [
  {
   "cell_type": "markdown",
   "metadata": {},
   "source": [
    "# HW 1 TOPICS IN ECONOMICS\n",
    "\n",
    "#### Aman Krishna"
   ]
  },
  {
   "cell_type": "markdown",
   "metadata": {},
   "source": [
    "## 3 Reading Response (15 points)"
   ]
  },
  {
   "cell_type": "markdown",
   "metadata": {},
   "source": [
    "### Optional for extra credit. Must be completed individually."
   ]
  },
  {
   "cell_type": "markdown",
   "metadata": {},
   "source": [
    "Read Lins et al. (2017) and answer the following questions."
   ]
  },
  {
   "cell_type": "markdown",
   "metadata": {},
   "source": [
    "#### 1. (5 points) \n",
    "\n",
    "Why are the authors particularly interested in studying the performance of socially responsible firms during crisis times (instead of studying performance of these firms more generally)?"
   ]
  },
  {
   "cell_type": "markdown",
   "metadata": {},
   "source": [
    ">The authors are particularly interested in studying the performance of socially responsible firms during crisis times because they believe that social capital, which is built through CSR activities, can help firms weather a crisis by increasing trust and cooperation between the firm and its stakeholders. They argue that this is because investors and stakeholders are more likely to support firms that they perceive as being trustworthy and socially responsible, especially during times of economic uncertainty."
   ]
  },
  {
   "cell_type": "markdown",
   "metadata": {},
   "source": [
    "#### 2. (5 points) \n",
    "Focusing on Section IV, describe the authors’ findings related to the effect of CSR on operating performance and capital raising. Conceptually, explain why CSR would matter for these outcomes during crisis times?"
   ]
  },
  {
   "cell_type": "markdown",
   "metadata": {},
   "source": [
    ">In Section IV of the study, the authors looked at how being socially responsible helped companies during tough financial times. They found that companies that really care about social issues did better in terms of profits, sales, and how productive their employees were. Also, these socially responsible companies found it a bit easier to borrow money during the crisis. Why does this matter? Well, during hard times, people and other businesses tend to trust and want to work with companies they believe are doing good in the world. So, these \"good guy\" companies had a bit of an edge during the rough patch because they had built up a good reputation.<br><br>\n",
    ">Conceptually, CSR can matter for operating performance and capital raising during crisis times for the following reasons:\n",
    ">\n",
    ">>CSR can help to reduce a firm's risk profile. Firms with high CSR ratings are often seen as being more stable and less likely to engage in risky behavior. This can make them more attractive to both customers and investors.\n",
    ">>\n",
    ">>CSR can help to improve a firm's reputation. Firms with good reputations are more likely to be able to attract and retain customers and employees. They may also be able to charge higher prices for their products and services.\n",
    ">>\n",
    ">>CSR can help to build trust between a firm and its stakeholders. This trust can be especially valuable during crisis times, when stakeholders are more likely to be looking for firms that they can rely on."
   ]
  },
  {
   "cell_type": "markdown",
   "metadata": {},
   "source": [
    "#### 3. (5 points) \n",
    "\n",
    "What questions are you left with after reading this paper?"
   ]
  },
  {
   "cell_type": "markdown",
   "metadata": {},
   "source": [
    ">What about the companies that were doing well before the crisis? Did they have an edge over the companies that were already struggling before the crisis? Or, did the crisis level the playing field for everyone?\n",
    ">\n",
    ">While correlation between CSR and firm performance during the crisis is demonstrated, what about causality? Did firms benefit because of their CSR activities, or were firms that naturally performed better also more inclined towards CSR? A Granger causality test could be used to determine the direction of causality.\n",
    ">\n",
    ">How can firms communicate their CSR efforts to stakeholders in a way that is credible and effective?"
   ]
  }
 ],
 "metadata": {
  "kernelspec": {
   "display_name": "base",
   "language": "python",
   "name": "python3"
  },
  "language_info": {
   "codemirror_mode": {
    "name": "ipython",
    "version": 3
   },
   "file_extension": ".py",
   "mimetype": "text/x-python",
   "name": "python",
   "nbconvert_exporter": "python",
   "pygments_lexer": "ipython3",
   "version": "3.9.13"
  },
  "orig_nbformat": 4
 },
 "nbformat": 4,
 "nbformat_minor": 2
}
