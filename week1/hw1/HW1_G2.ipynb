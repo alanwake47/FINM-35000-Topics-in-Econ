{
 "cells": [
  {
   "cell_type": "markdown",
   "metadata": {},
   "source": [
    "# HW 1 TOPICS IN ECONOMICS - GROUP 2\n",
    "\n",
    "#### Aman Krishna\n",
    "#### Tim Taylor\n",
    "#### Yazmin Ramirez Delgado"
   ]
  },
  {
   "cell_type": "markdown",
   "metadata": {},
   "source": [
    "## 1 ESG (40 points)"
   ]
  },
  {
   "cell_type": "markdown",
   "metadata": {},
   "source": [
    "### 1. \n",
    "\n",
    "The file MSCI sample.csv contains MSCI ESG ratings for a random sample of firms. Following equations 1 and 2 of Pástor et al. (2022), compute the firm-level greenness measure, $ g_{i,t} $. In order to do the value-weighting (this will also apply when you construct the GMB portfolio), use the fields PRC (price) and SHROUT (shares outstanding) to compute the market cap of each firm at each date. Then, $\\overline{G}$ is the market cap weighted average. You do not need to report anything at this step, but will need to use this measure later."
   ]
  },
  {
   "cell_type": "markdown",
   "metadata": {},
   "source": [
    "#### (a) (5 points) \n",
    "In your own words, explain what the unadjusted greenness score, $G_{i,t}$, measures. Make sure to mention why we need to include \n",
    "$E_{weight}$."
   ]
  },
  {
   "cell_type": "markdown",
   "metadata": {},
   "source": [
    "#### (b) (5 points) \n",
    "Why does the paper focus on the adjusted greenness score?"
   ]
  },
  {
   "cell_type": "markdown",
   "metadata": {},
   "source": [
    "### 2. (10 points) \n",
    "Use the description in Section 4 of the paper to replicate Figure 3."
   ]
  },
  {
   "cell_type": "markdown",
   "metadata": {},
   "source": [
    "### 3. (10 points) \n",
    "What is the monthly return and Sharpe ratio of the green minus brown portfolio?"
   ]
  },
  {
   "cell_type": "markdown",
   "metadata": {},
   "source": [
    "### 4. (10 points) \n",
    "How does Pástor et al. (2022) explain that green stocks outperform bad stocks when the theoretical model from Pástor et al. (2021) suggests that brown stocks should outperform? Make sure to focus on the distinction between expected and realized returns."
   ]
  },
  {
   "cell_type": "markdown",
   "metadata": {},
   "source": [
    "## 2 Climate Risk (60 points)"
   ]
  },
  {
   "cell_type": "markdown",
   "metadata": {},
   "source": [
    "The first two parts of this problem are just to give you a chance to explore the industry returns data. The third part is specifically related to climate risk."
   ]
  },
  {
   "cell_type": "markdown",
   "metadata": {},
   "source": [
    "### 1 (5 points) \n",
    "The file 49_Industry_Portfolios.csv contains monthly returns of stocks in 49 different industries. Import this file into your program of choice. Restrict the sample to start in January 2004 and end in June 2018. Calculate the cumulative return of each industry over the sample period. Which were the three highest and three lowest performing industries in this sample?"
   ]
  },
  {
   "cell_type": "markdown",
   "metadata": {},
   "source": [
    "### 2 (10 points) \n",
    "For each industry, calculate the standard deviation of returns. Use this to calculate the Sharpe ratio. Which industries have the three highest and three lowest Sharpe ratios? How do these compare to those with the highest and lowest returns?"
   ]
  },
  {
   "cell_type": "markdown",
   "metadata": {},
   "source": [
    "### 3 \n",
    "In the next sub-questions, we are going to focus on days where attention to climate change is high. We will identify these days in two ways: using Google Trends searches and using the Ardia et al. (2020) climate concerns data."
   ]
  },
  {
   "cell_type": "markdown",
   "metadata": {},
   "source": [
    "#### (a) (20 points) \n",
    "Go to https://trends.google.com/trends/?geo=US and go to the page for the Climate Change topic.8 Change the timing to 2004-present and download the data."
   ]
  },
  {
   "cell_type": "markdown",
   "metadata": {},
   "source": [
    "##### i. \n",
    "Pick three months where this measure was high. Can you find any news events from those months that might be leading Google searches for climate change to be particularly high? Discuss."
   ]
  },
  {
   "cell_type": "markdown",
   "metadata": {},
   "source": [
    "##### ii. \n",
    "Merge the Google Trends data with the data from 49_Industry_Portfolios.csv. For each industry, regress returns on the Google Trends Climate Change topic score. Create a table with three columns: column 1 has the industry name, column 2 has the OLS regression coefficient and column 3 has the p-value for that coefficient. Sort the table from largest to smallest coefficient."
   ]
  },
  {
   "cell_type": "markdown",
   "metadata": {},
   "source": [
    "##### iii. \n",
    "Comment on the ordering of the industries. Is it in line with what you would have expected?"
   ]
  },
  {
   "cell_type": "markdown",
   "metadata": {},
   "source": [
    "##### iv. \n",
    "Repeat i.-iii. for two new climate change-related Google search terms of your choice. One of these terms should be related to physical risk (e.g. heat wave, hurricane, wildifre) and one should be related to transition risk (e.g. environmental regulation, carbon tax, cap and trade)."
   ]
  },
  {
   "cell_type": "markdown",
   "metadata": {},
   "source": [
    "#### (b) (25 points) \n",
    "Download the Ardia et al. (2020) data from https://sentometrics-research.com/download/mccc/. Focus on the tab “SSRN 2022 version (monthly).” Repeat problem 3a using this data instead of Google Trends. Instead of Google searches for the Climate Change topic, use the column called “Aggregate.” Instead of Google searches for physical and transition risk topics, choose one physical risk-related and one transition-risk related series from the Ardia et al. (2020) data. Try to choose the series that are most closely related to the Google searches you chose above. Comment on the similarities and differences in the industry rankings you find when using the Ardia et al. (2020) compared to the Google data."
   ]
  },
  {
   "cell_type": "markdown",
   "metadata": {},
   "source": [
    "## 3 Reading Response (15 points)"
   ]
  },
  {
   "cell_type": "markdown",
   "metadata": {},
   "source": [
    "### Optional for extra credit. Must be completed individually."
   ]
  },
  {
   "cell_type": "markdown",
   "metadata": {},
   "source": [
    "Read Lins et al. (2017) and answer the following questions."
   ]
  },
  {
   "cell_type": "markdown",
   "metadata": {},
   "source": [
    "#### 1. (5 points) \n",
    "\n",
    "Why are the authors particularly interested in studying the performance of socially responsible firms during crisis times (instead of studying performance of these firms more generally)?"
   ]
  },
  {
   "cell_type": "markdown",
   "metadata": {},
   "source": [
    "#### 2. (5 points) \n",
    "Focusing on Section IV, describe the authors’ findings related to the effect of CSR on operating performance and capital raising. Conceptually, explain why CSR would matter for these outcomes during crisis times?"
   ]
  },
  {
   "cell_type": "markdown",
   "metadata": {},
   "source": [
    "#### 3. (5 points) \n",
    "\n",
    "What questions are you left with after reading this paper?"
   ]
  },
  {
   "cell_type": "code",
   "execution_count": null,
   "metadata": {},
   "outputs": [],
   "source": []
  }
 ],
 "metadata": {
  "language_info": {
   "name": "python"
  },
  "orig_nbformat": 4
 },
 "nbformat": 4,
 "nbformat_minor": 2
}
