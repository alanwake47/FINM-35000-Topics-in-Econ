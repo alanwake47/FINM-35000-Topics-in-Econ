{
 "cells": [
  {
   "cell_type": "markdown",
   "metadata": {},
   "source": [
    "## Reading Response (15 points)"
   ]
  },
  {
   "cell_type": "markdown",
   "metadata": {},
   "source": [
    "<span style=\"color:purple\">Yazmin Ramirez Delgado </span>"
   ]
  },
  {
   "cell_type": "markdown",
   "metadata": {},
   "source": [
    "### Optional for extra credit. Must be completed individually.\n",
    "\n",
    "Read Aruoba and Drechsel (2022) and answer the following questions."
   ]
  },
  {
   "cell_type": "markdown",
   "metadata": {},
   "source": [
    "1. Describe the natural language processing technique that the authors use. What do you like about it? What are its shortcomings?"
   ]
  },
  {
   "cell_type": "markdown",
   "metadata": {},
   "source": [
    "Natural Language Processing Technique:\n",
    "\n",
    ">The authors utilized natural language processing (NLP) to extract sentiment indicators from documents that Federal Reserve economists prepared for the FOMC meetings. Specifically:\n",
    ">\n",
    ">Sentiment Analysis: They applied sentiment analysis to 296 economic concepts discussed in these documents to determine the prevailing sentiment (positive, negative, neutral) towards each concept.\n",
    ">\n",
    ">Extraction and Utilization: Once sentiment indicators for these concepts were obtained, they were used alongside numerical forecasts to predict systematic changes in the target interest rate.\n",
    "\n",
    "What I Like About It:\n",
    "\n",
    ">Richness of Data: Traditional models often only take numerical data into account. By including sentiment data from textual documents, the authors integrated a rich source of qualitative information that might capture nuances and subtleties not present in numerical forecasts.\n",
    ">\n",
    ">Coverage: Analyzing sentiments across 296 economic concepts provides a comprehensive view of economic perspectives, allowing for a more holistic understanding of monetary policy decision-making.\n",
    ">\n",
    ">Innovative Integration: Combining traditional numerical forecasts with NLP-driven sentiment indicators in a predictive model is an innovative approach, showcasing the merging of classical econometrics with modern data science techniques.\n",
    "\n",
    "Shortcomings:\n",
    "\n",
    ">Subjectivity: Sentiment analysis, while powerful, is inherently subjective. The way one model interprets the sentiment of a particular phrase or term might differ from another model or human interpretation.\n",
    ">\n",
    ">Granularity Concerns: Sentiment can sometimes be more granular, with varying degrees of positivity or negativity. If not captured adequately, nuances might be lost.\n",
    ">\n",
    ">Context Dependence: Economic texts can be complex, and sentiment might change based on context. A word considered positive in one context might be negative in another, and capturing these nuances can be challenging.\n",
    ">\n",
    ">Overfitting Risk: With the integration of numerous sentiment indicators alongside numerical forecasts, there's a risk of the model becoming too complex and overfitting to the training data.\n",
    ">\n",
    ">Temporal Dynamics: The sentiment towards certain economic concepts might evolve over time, and ensuring that the NLP model captures these dynamics might be challenging."
   ]
  },
  {
   "cell_type": "markdown",
   "metadata": {},
   "source": [
    "2. Summarize (in your own words) the findings discussed in Section 4."
   ]
  },
  {
   "cell_type": "markdown",
   "metadata": {},
   "source": [
    "\"The effects of monetary policy shocks\"\n",
    "\n",
    ">The authors took a dive into how the U.S. economy reacts when the Federal Reserve does something unexpected with interest rates, aka those \"monetary policy shocks\".\n",
    ">\n",
    ">Here's what they found:\n",
    ">\n",
    ">1. Solid Backing: The results backed up their method of using both human sentiment (from NLP) and the usual number-based predictions. Their method seems to hit the mark in predicting how interest rates change out of the blue.\n",
    ">\n",
    ">2. Following the Trail: They used a tried-and-true model to see how the economy reacts when there's a surprise in monetary policy. And guess what? Their shock predictions, from both the number and sentiment blend, worked well with this model.\n",
    ">\n",
    ">3. The Actual Reactions:\n",
    ">\n",
    ">   - Interest Rates: When the Fed tightens its policy (like hiking up interest rates), the rates tend to stay up for almost 20 months.\n",
    ">   - Economy & Prices: This tightening causes a bit of a cold front. The economy slows down, prices drop, and it aligns with what most economic theories would predict.\n",
    ">   - Stock Market: Share prices take a dip when there's a monetary policy squeeze. And that makes sense, right? Tighter policy can mean less money flowing, and markets aren't too thrilled about that.\n",
    ">4. Comparing Notes: They then looked at another method (the Romer-Romer way) which uses fewer data points. And guess what? It didn't capture everything, especially how the stock market reacts to these shocks. So, their blended approach of numbers + sentiment seems to have an edge.\n",
    ">\n",
    ">The authors stressed that just getting results that match economic theories isn't enough. Their method, which combines a wide range of data, sentiments, and some cool nonlinear techniques, seems to be their top pick."
   ]
  },
  {
   "cell_type": "markdown",
   "metadata": {},
   "source": [
    "3. What questions do you have after reading the paper?"
   ]
  },
  {
   "cell_type": "markdown",
   "metadata": {},
   "source": [
    ">The first thing I thought was regarding the data limitations. How robust is the sentiment extraction process? Could different NLP algorithms or tweaks in the existing one lead to different sentiment interpretations, potentially affecting the results?\n",
    ">\n",
    ">Would this methodology work similarly for central banks of other countries, given the cultural and linguistic differences in documentation and policy descriptions?\n",
    ">\n",
    ">With advancements in NLP and machine learning happening at a rapid pace, how often do the authors foresee needing to update or refine their model?\n",
    ">\n",
    ">How might other external shocks (like geopolitical events, pandemics, etc.) potentially interact with the identified monetary policy shocks?"
   ]
  }
 ],
 "metadata": {
  "kernelspec": {
   "display_name": "Python 3 (ipykernel)",
   "language": "python",
   "name": "python3"
  },
  "language_info": {
   "codemirror_mode": {
    "name": "ipython",
    "version": 3
   },
   "file_extension": ".py",
   "mimetype": "text/x-python",
   "name": "python",
   "nbconvert_exporter": "python",
   "pygments_lexer": "ipython3",
   "version": "3.9.13"
  }
 },
 "nbformat": 4,
 "nbformat_minor": 2
}
