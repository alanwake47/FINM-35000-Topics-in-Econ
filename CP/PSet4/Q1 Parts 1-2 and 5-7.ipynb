{
 "cells": [
  {
   "cell_type": "code",
   "execution_count": 2,
   "id": "6ffb66dd",
   "metadata": {},
   "outputs": [],
   "source": [
    "import pandas as pd\n",
    "import matplotlib.pyplot as plt\n",
    "import numpy as np\n",
    "import statsmodels.api as sm\n",
    "from datetime import datetime, timedelta\n",
    "import time"
   ]
  },
  {
   "cell_type": "markdown",
   "id": "60e01ae0",
   "metadata": {},
   "source": [
    "# 1. Measuring Retail Investor Sentiment from WallStreetBets"
   ]
  },
  {
   "cell_type": "code",
   "execution_count": 3,
   "id": "79d290e4",
   "metadata": {},
   "outputs": [],
   "source": [
    "# load data from csv\n",
    "df_reddit = pd.read_csv(r'reddit_wsb.csv', index_col=7)\n",
    "df_returns = pd.read_csv(r'crsp_daily.csv', low_memory=False)\n",
    "\n",
    "df_reddit.index = pd.to_datetime(df_reddit.index)"
   ]
  },
  {
   "cell_type": "code",
   "execution_count": 4,
   "id": "d3ee5f44",
   "metadata": {},
   "outputs": [],
   "source": [
    "# combine title and body, clean up, and split sentences into individual words\n",
    "df_reddit['body'] = df_reddit['body'].fillna('')\n",
    "df_reddit['post'] = df_reddit['title'] + ' ' + df_reddit['body']\n",
    "df_reddit['post'] = df_reddit['post'].apply(lambda x: x.strip())\n",
    "\n",
    "for i in ')(,.!-:;><{}[]':\n",
    "    df_reddit['post'] = df_reddit['post'].str.replace(i, \"\", regex=True)\n",
    "\n",
    "df_reddit['post_split'] = df_reddit['post'].str.split(' ')\n",
    "\n",
    "# count the number of words in each post\n",
    "df_reddit['word_count'] = df_reddit['post_split'].str.len()"
   ]
  },
  {
   "cell_type": "markdown",
   "id": "02a9b74a",
   "metadata": {},
   "source": [
    "## 1.1 (a) Report summary statistics for the number of words of the title+body column"
   ]
  },
  {
   "cell_type": "code",
   "execution_count": 5,
   "id": "2b257bf2",
   "metadata": {},
   "outputs": [
    {
     "data": {
      "text/html": [
       "<div>\n",
       "<style scoped>\n",
       "    .dataframe tbody tr th:only-of-type {\n",
       "        vertical-align: middle;\n",
       "    }\n",
       "\n",
       "    .dataframe tbody tr th {\n",
       "        vertical-align: top;\n",
       "    }\n",
       "\n",
       "    .dataframe thead th {\n",
       "        text-align: right;\n",
       "    }\n",
       "</style>\n",
       "<table border=\"1\" class=\"dataframe\">\n",
       "  <thead>\n",
       "    <tr style=\"text-align: right;\">\n",
       "      <th></th>\n",
       "      <th>summary statistics</th>\n",
       "    </tr>\n",
       "  </thead>\n",
       "  <tbody>\n",
       "    <tr>\n",
       "      <th>mean</th>\n",
       "      <td>109.97</td>\n",
       "    </tr>\n",
       "    <tr>\n",
       "      <th>median</th>\n",
       "      <td>18.00</td>\n",
       "    </tr>\n",
       "    <tr>\n",
       "      <th>max</th>\n",
       "      <td>7873.00</td>\n",
       "    </tr>\n",
       "    <tr>\n",
       "      <th>min</th>\n",
       "      <td>1.00</td>\n",
       "    </tr>\n",
       "    <tr>\n",
       "      <th>standard dev</th>\n",
       "      <td>286.27</td>\n",
       "    </tr>\n",
       "  </tbody>\n",
       "</table>\n",
       "</div>"
      ],
      "text/plain": [
       "              summary statistics\n",
       "mean                      109.97\n",
       "median                     18.00\n",
       "max                      7873.00\n",
       "min                         1.00\n",
       "standard dev              286.27"
      ]
     },
     "execution_count": 5,
     "metadata": {},
     "output_type": "execute_result"
    }
   ],
   "source": [
    "mean = np.mean(df_reddit['word_count'].values)\n",
    "median = np.median(df_reddit['word_count'].values)\n",
    "maximum = max(df_reddit['word_count'].values)\n",
    "minimum = min(df_reddit['word_count'].values)\n",
    "stdev = np.nanstd(df_reddit['word_count'].values)\n",
    "\n",
    "summary_stats_dict = {'mean':mean,'median':median,'max':maximum,'min':minimum,'standard dev': stdev}\n",
    "\n",
    "summary_stats = pd.DataFrame.from_dict(summary_stats_dict,orient='index',columns=['summary statistics'])\n",
    "summary_stats = round(summary_stats,2)\n",
    "summary_stats"
   ]
  },
  {
   "cell_type": "markdown",
   "id": "a972eac4",
   "metadata": {},
   "source": [
    "## 1.1 (b) Plot the number of posts by month"
   ]
  },
  {
   "cell_type": "code",
   "execution_count": 6,
   "id": "44995306",
   "metadata": {},
   "outputs": [
    {
     "data": {
      "image/png": "[encoded data removed]",
      "text/plain": [
       "<Figure size 432x288 with 1 Axes>"
      ]
     },
     "metadata": {
      "needs_background": "light"
     },
     "output_type": "display_data"
    }
   ],
   "source": [
    "# group by month and count number of posts by month\n",
    "per_month = df_reddit.word_count.groupby(pd.Grouper(freq=\"M\")).count()\n",
    "per_month.index = per_month.index.strftime('%Y-%m')\n",
    "\n",
    "# plot \n",
    "plt.plot(per_month)\n",
    "plt.xticks(rotation=30, fontsize=10)\n",
    "plt.xlabel(\"Month\")\n",
    "plt.ylabel(\"Number of posts\")\n",
    "plt.show()"
   ]
  },
  {
   "cell_type": "markdown",
   "id": "55782398",
   "metadata": {},
   "source": [
    "## 1.2 Record which tickers are mentioned in each post and report the number of posts that contain a ticker"
   ]
  },
  {
   "cell_type": "code",
   "execution_count": 7,
   "id": "6204ebc7",
   "metadata": {},
   "outputs": [],
   "source": [
    "# get list of tickers\n",
    "remove_words = ['YOLO', 'BUY', 'DD', 'GO', 'GAIN']\n",
    "\n",
    "for i in range(len(remove_words)):\n",
    "    df_returns = df_returns[df_returns.TICKER != remove_words[i]]\n",
    "\n",
    "tickers = df_returns.TICKER.unique()\n",
    "tickers = [x for x in tickers if str(x) != 'nan']\n",
    "tickers = ['$' + i for i in tickers]"
   ]
  },
  {
   "cell_type": "code",
   "execution_count": 8,
   "id": "31ca9e97",
   "metadata": {},
   "outputs": [],
   "source": [
    "# check for tickers without $\n",
    "tickers2 = []\n",
    "\n",
    "for t in tickers:\n",
    "    \n",
    "    if t[0] == '$':\n",
    "        tickers2.append(t[1:])"
   ]
  },
  {
   "cell_type": "code",
   "execution_count": 9,
   "id": "add6fe22",
   "metadata": {},
   "outputs": [],
   "source": [
    "tickers = tickers + tickers2"
   ]
  },
  {
   "cell_type": "code",
   "execution_count": 10,
   "id": "0903af4c",
   "metadata": {},
   "outputs": [
    {
     "name": "stdout",
     "output_type": "stream",
     "text": [
      "                                                                  post                         tickers\n",
      "timestamp                                                                                             \n",
      "2021-01-28 21:18:25  We need to keep this movement going we all can...                      [GME, AMC]\n",
      "2021-01-28 21:17:28                 GME Premarket 🍁 Musk approved 🎮🛑💎✋                           [GME]\n",
      "2021-01-28 21:17:10  Once you're done with GME  $AG and $SLV the ge...  [GME, BE, OUT, $AG, $SLV, JPM]\n",
      "2021-01-28 21:15:58  $GME price has nothing to do with fundamentals...            [ITM, $GME, EOD, OI]\n",
      "2021-01-28 21:14:44                                 I Love You Retards                              []\n"
     ]
    }
   ],
   "source": [
    "# find posts that mention tickers\n",
    "\n",
    "# Note: we are only searching for tickers preceded by a dollar sign. We do this because it is not feasable \n",
    "# in this contxt to differentiate between tickers such as $FOR and $F and uses of FOR and F in regular language.\n",
    "# As with any forum scraping, the dataset is subject to error, which we attempt to minimize\n",
    "\n",
    "df_reddit['tickers'] = df_reddit['post_split'].apply(lambda x: list(set(x).intersection(tickers)))\n",
    "\n",
    "df1 = df_reddit[['post','tickers']].head(15).tail(5)\n",
    "pd.set_option('expand_frame_repr', False)\n",
    "with pd.option_context('expand_frame_repr', False):\n",
    "    print (df1)"
   ]
  },
  {
   "cell_type": "code",
   "execution_count": 11,
   "id": "847ac607",
   "metadata": {},
   "outputs": [
    {
     "name": "stdout",
     "output_type": "stream",
     "text": [
      "30728 posts with ticker mentions\n"
     ]
    }
   ],
   "source": [
    "# count number of posts mentioning tickers\n",
    "\n",
    "print(str(len(df_reddit[df_reddit[\"tickers\"].astype(bool)]))+' posts with ticker mentions')"
   ]
  },
  {
   "cell_type": "code",
   "execution_count": 12,
   "id": "7e612331",
   "metadata": {},
   "outputs": [],
   "source": [
    "# df_reddit.to_csv(r'/Users/christianpavilanis/Downloads/problem_set4-1.csv')\n",
    "df = pd.DataFrame(tickers)\n",
    "# df.to_csv(r'/Users/christianpavilanis/Downloads/tickers.csv')"
   ]
  },
  {
   "cell_type": "markdown",
   "id": "58b7dce9",
   "metadata": {},
   "source": [
    "## 1.3 Regress returns on an indicator for whether the ticker was mentioned in any WSB posts on a given day or on the prior day"
   ]
  },
  {
   "cell_type": "code",
   "execution_count": null,
   "id": "4d0f247a",
   "metadata": {},
   "outputs": [],
   "source": []
  },
  {
   "cell_type": "markdown",
   "id": "b2896bb2",
   "metadata": {},
   "source": [
    "## 1.5 For each post, count the instances of the phrases \"buy\", \"sell\", \"hold\", \"short\". Construct the measure \"RedditRec\" and regress against next day returns"
   ]
  },
  {
   "cell_type": "code",
   "execution_count": 13,
   "id": "0c2b35fc",
   "metadata": {},
   "outputs": [],
   "source": [
    "def reddit_rec(post):\n",
    "    \n",
    "    num = 0\n",
    "    denom = 0\n",
    "        \n",
    "    if ('buy' in post) or ('Buy' in post) or ('BUY' in post):\n",
    "        num += 1\n",
    "        denom += 1\n",
    "    if ('hold' in post) or ('Hold' in post) or ('HOLD' in post):\n",
    "        num += 1\n",
    "        denom += 1\n",
    "    if ('sell' in post) or ('Sell' in post) or ('SELL' in post):\n",
    "        num -= 1\n",
    "        denom += 1\n",
    "    if ('short' in post) or ('Short' in post) or ('SHORT' in post):\n",
    "        num -= 1\n",
    "        denom += 1\n",
    "        \n",
    "    if denom > 0:\n",
    "        return num / denom \n",
    "    else:\n",
    "        return 0"
   ]
  },
  {
   "cell_type": "code",
   "execution_count": 14,
   "id": "0e6f1893",
   "metadata": {},
   "outputs": [],
   "source": [
    "df_reddit[\"RedditRec\"] = df_reddit[\"post\"].apply(lambda x: reddit_rec(x))"
   ]
  },
  {
   "cell_type": "code",
   "execution_count": 15,
   "id": "a5aa6b70",
   "metadata": {},
   "outputs": [],
   "source": [
    "df_returns['time'] = df_returns['date'].apply(lambda x: time.mktime(datetime.strptime(str(x), \"%Y%m%d\").timetuple()))"
   ]
  },
  {
   "cell_type": "code",
   "execution_count": 16,
   "id": "a2ee01d9",
   "metadata": {},
   "outputs": [],
   "source": [
    "df_returns['datetime'] = df_returns['time'].apply(lambda x: datetime.fromtimestamp(x))"
   ]
  },
  {
   "cell_type": "code",
   "execution_count": 17,
   "id": "c06b8c95",
   "metadata": {},
   "outputs": [],
   "source": [
    "df_reddit = df_reddit.reset_index()"
   ]
  },
  {
   "cell_type": "code",
   "execution_count": 18,
   "id": "278bda95",
   "metadata": {},
   "outputs": [],
   "source": [
    "df_rec = pd.DataFrame(df_reddit[df_reddit[\"RedditRec\"] != 0])"
   ]
  },
  {
   "cell_type": "code",
   "execution_count": 19,
   "id": "f7a5ec37",
   "metadata": {},
   "outputs": [],
   "source": [
    "def is_ticker(x):\n",
    "    if len(x) > 0:\n",
    "        return 1\n",
    "    else:\n",
    "        return 0"
   ]
  },
  {
   "cell_type": "code",
   "execution_count": 20,
   "id": "dc026733",
   "metadata": {},
   "outputs": [],
   "source": [
    "df_rec['is_ticker'] = df_rec['tickers'].apply(lambda x: is_ticker(x))"
   ]
  },
  {
   "cell_type": "code",
   "execution_count": 21,
   "id": "796bd181",
   "metadata": {},
   "outputs": [],
   "source": [
    "df_rec = pd.DataFrame(df_rec[df_rec['is_ticker'] > 0])"
   ]
  },
  {
   "cell_type": "code",
   "execution_count": 22,
   "id": "f24ed80e",
   "metadata": {},
   "outputs": [],
   "source": [
    "def clean_ticker(t_list):\n",
    "    \n",
    "    cleaned_list = []\n",
    "    \n",
    "    for t in t_list:\n",
    "        cleaned_list.append(t.replace('$', ''))\n",
    "        \n",
    "    return [*set(cleaned_list)]"
   ]
  },
  {
   "cell_type": "code",
   "execution_count": 23,
   "id": "2b22cbd2",
   "metadata": {},
   "outputs": [],
   "source": [
    "df_rec['unique_tickers'] = df_rec['tickers'].apply(lambda x: clean_ticker(x))"
   ]
  },
  {
   "cell_type": "code",
   "execution_count": 24,
   "id": "9aae7d87",
   "metadata": {},
   "outputs": [],
   "source": [
    "def get_rets(ticker, df_rets, post_time):\n",
    "    \n",
    "    df = df_rets[df_rets[\"TICKER\"] == ticker]\n",
    "    \n",
    "    df = df[df['datetime'] > post_time]\n",
    "        \n",
    "    if len(df) == 0:\n",
    "        return np.nan\n",
    "    \n",
    "    try:\n",
    "        ret = float(df[df['datetime'] > post_time].iloc[0].RET)\n",
    "    except ValueError:\n",
    "        ret = np.nan\n",
    "        \n",
    "    return ret"
   ]
  },
  {
   "cell_type": "code",
   "execution_count": 25,
   "id": "54595285",
   "metadata": {},
   "outputs": [],
   "source": [
    "def next_day_rets(row, df_rets):\n",
    "    \n",
    "    tickers = row.unique_tickers # list of tickers\n",
    "    \n",
    "    nd_ret = 0\n",
    "    post_time = row.timestamp\n",
    "        \n",
    "    for t in tickers:\n",
    "        nd_ret += get_rets(t, df_rets, post_time)\n",
    "        \n",
    "    return nd_ret / len(tickers)"
   ]
  },
  {
   "cell_type": "code",
   "execution_count": 26,
   "id": "064ee703",
   "metadata": {},
   "outputs": [],
   "source": [
    "# df_rec = pd.DataFrame(df_rec.iloc[0:300])\n",
    "\n",
    "# this takes a long time to run. Trim it down by uncommenting the above\n",
    "df_rec['next_day_rets'] = df_rec.apply(lambda row: next_day_rets(row, df_returns), axis=1)"
   ]
  },
  {
   "cell_type": "code",
   "execution_count": 27,
   "id": "adb75305",
   "metadata": {},
   "outputs": [],
   "source": [
    "df_rec_cleaned = pd.DataFrame(df_rec.dropna())"
   ]
  },
  {
   "cell_type": "code",
   "execution_count": 28,
   "id": "a3e5cfe7",
   "metadata": {},
   "outputs": [],
   "source": [
    "X = np.asarray(df_rec_cleaned['RedditRec'])\n",
    "X = sm.add_constant(X)\n",
    "y = np.asarray(df_rec_cleaned['next_day_rets'])"
   ]
  },
  {
   "cell_type": "code",
   "execution_count": 29,
   "id": "1e5ad903",
   "metadata": {},
   "outputs": [],
   "source": [
    "est = sm.OLS(y, X).fit()"
   ]
  },
  {
   "cell_type": "code",
   "execution_count": 30,
   "id": "e351dc78",
   "metadata": {},
   "outputs": [],
   "source": [
    "betas = est.params"
   ]
  },
  {
   "cell_type": "code",
   "execution_count": 31,
   "id": "8c8bff15",
   "metadata": {},
   "outputs": [
    {
     "data": {
      "text/html": [
       "<table class=\"simpletable\">\n",
       "<caption>OLS Regression Results</caption>\n",
       "<tr>\n",
       "  <th>Dep. Variable:</th>            <td>y</td>        <th>  R-squared:         </th> <td>   0.002</td>\n",
       "</tr>\n",
       "<tr>\n",
       "  <th>Model:</th>                   <td>OLS</td>       <th>  Adj. R-squared:    </th> <td>  -0.002</td>\n",
       "</tr>\n",
       "<tr>\n",
       "  <th>Method:</th>             <td>Least Squares</td>  <th>  F-statistic:       </th> <td>  0.5362</td>\n",
       "</tr>\n",
       "<tr>\n",
       "  <th>Date:</th>             <td>Tue, 15 Nov 2022</td> <th>  Prob (F-statistic):</th>  <td> 0.465</td> \n",
       "</tr>\n",
       "<tr>\n",
       "  <th>Time:</th>                 <td>21:19:01</td>     <th>  Log-Likelihood:    </th> <td> -30.313</td>\n",
       "</tr>\n",
       "<tr>\n",
       "  <th>No. Observations:</th>      <td>   259</td>      <th>  AIC:               </th> <td>   64.63</td>\n",
       "</tr>\n",
       "<tr>\n",
       "  <th>Df Residuals:</th>          <td>   257</td>      <th>  BIC:               </th> <td>   71.74</td>\n",
       "</tr>\n",
       "<tr>\n",
       "  <th>Df Model:</th>              <td>     1</td>      <th>                     </th>     <td> </td>   \n",
       "</tr>\n",
       "<tr>\n",
       "  <th>Covariance Type:</th>      <td>nonrobust</td>    <th>                     </th>     <td> </td>   \n",
       "</tr>\n",
       "</table>\n",
       "<table class=\"simpletable\">\n",
       "<tr>\n",
       "    <td></td>       <th>coef</th>     <th>std err</th>      <th>t</th>      <th>P>|t|</th>  <th>[0.025</th>    <th>0.975]</th>  \n",
       "</tr>\n",
       "<tr>\n",
       "  <th>const</th> <td>    0.2948</td> <td>    0.019</td> <td>   15.433</td> <td> 0.000</td> <td>    0.257</td> <td>    0.332</td>\n",
       "</tr>\n",
       "<tr>\n",
       "  <th>x1</th>    <td>    0.0151</td> <td>    0.021</td> <td>    0.732</td> <td> 0.465</td> <td>   -0.025</td> <td>    0.056</td>\n",
       "</tr>\n",
       "</table>\n",
       "<table class=\"simpletable\">\n",
       "<tr>\n",
       "  <th>Omnibus:</th>       <td>4630.550</td> <th>  Durbin-Watson:     </th> <td>   1.830</td>\n",
       "</tr>\n",
       "<tr>\n",
       "  <th>Prob(Omnibus):</th>  <td> 0.000</td>  <th>  Jarque-Bera (JB):  </th> <td>  23.720</td>\n",
       "</tr>\n",
       "<tr>\n",
       "  <th>Skew:</th>           <td> 0.166</td>  <th>  Prob(JB):          </th> <td>7.07e-06</td>\n",
       "</tr>\n",
       "<tr>\n",
       "  <th>Kurtosis:</th>       <td> 1.555</td>  <th>  Cond. No.          </th> <td>    1.65</td>\n",
       "</tr>\n",
       "</table><br/><br/>Notes:<br/>[1] Standard Errors assume that the covariance matrix of the errors is correctly specified."
      ],
      "text/plain": [
       "<class 'statsmodels.iolib.summary.Summary'>\n",
       "\"\"\"\n",
       "                            OLS Regression Results                            \n",
       "==============================================================================\n",
       "Dep. Variable:                      y   R-squared:                       0.002\n",
       "Model:                            OLS   Adj. R-squared:                 -0.002\n",
       "Method:                 Least Squares   F-statistic:                    0.5362\n",
       "Date:                Tue, 15 Nov 2022   Prob (F-statistic):              0.465\n",
       "Time:                        21:19:01   Log-Likelihood:                -30.313\n",
       "No. Observations:                 259   AIC:                             64.63\n",
       "Df Residuals:                     257   BIC:                             71.74\n",
       "Df Model:                           1                                         \n",
       "Covariance Type:            nonrobust                                         \n",
       "==============================================================================\n",
       "                 coef    std err          t      P>|t|      [0.025      0.975]\n",
       "------------------------------------------------------------------------------\n",
       "const          0.2948      0.019     15.433      0.000       0.257       0.332\n",
       "x1             0.0151      0.021      0.732      0.465      -0.025       0.056\n",
       "==============================================================================\n",
       "Omnibus:                     4630.550   Durbin-Watson:                   1.830\n",
       "Prob(Omnibus):                  0.000   Jarque-Bera (JB):               23.720\n",
       "Skew:                           0.166   Prob(JB):                     7.07e-06\n",
       "Kurtosis:                       1.555   Cond. No.                         1.65\n",
       "==============================================================================\n",
       "\n",
       "Notes:\n",
       "[1] Standard Errors assume that the covariance matrix of the errors is correctly specified.\n",
       "\"\"\""
      ]
     },
     "execution_count": 31,
     "metadata": {},
     "output_type": "execute_result"
    }
   ],
   "source": [
    "est.summary()"
   ]
  },
  {
   "cell_type": "code",
   "execution_count": 32,
   "id": "288ca0d4",
   "metadata": {},
   "outputs": [
    {
     "data": {
      "text/plain": [
       "<matplotlib.collections.PathCollection at 0x7f23d37a7be0>"
      ]
     },
     "execution_count": 32,
     "metadata": {},
     "output_type": "execute_result"
    },
    {
     "data": {
      "image/png": "[encoded data removed]",
      "text/plain": [
       "<Figure size 432x288 with 1 Axes>"
      ]
     },
     "metadata": {
      "needs_background": "light"
     },
     "output_type": "display_data"
    }
   ],
   "source": [
    "plt.scatter(np.asarray(df_rec_cleaned['RedditRec']), np.asarray(df_rec_cleaned['next_day_rets']))"
   ]
  },
  {
   "cell_type": "markdown",
   "id": "ccb08b44",
   "metadata": {},
   "source": [
    "## 1.6 Comment on results from 3-5"
   ]
  },
  {
   "cell_type": "markdown",
   "id": "8b87482d",
   "metadata": {},
   "source": [
    "The result in part 5 gives a very low r2 value which can be easily observed in the above scatter plot. The measure of sentiment in this section is quote simple and only yields four different values. This makes it difficult to run a reliable linear regression. A more comprehensive measure of sentiment, such as a measure that resulted in a wider range of values, could give a more linear relationship."
   ]
  },
  {
   "cell_type": "markdown",
   "id": "ec79ab26",
   "metadata": {},
   "source": [
    "## 1.7 Describe the shortcomings of this simple measure of sentiment"
   ]
  },
  {
   "cell_type": "markdown",
   "id": "bb242879",
   "metadata": {},
   "source": [
    "The simple nature of this method of calculating 'RedditRec' is intuitive but not rigorous. To get a more powerful result, we would need to refine the way we calculate our sentiment score. Specifically, checking for just the presense of these four words is not enough. There are many other words or phrases that could be tested for to measure the sentiment. Also, many of these posts are in jest, so a post with sell may acutally be a positive or neutral sentiment.\n",
    "A better methodology would be to train a machine learning algorithm on words and phrases that appear in this post. And rather than a +1 or -1 it could yield a more comprehensive score such as a number out of 100. A more complex method of measuring sentiment would yield much stronger results."
   ]
  },
  {
   "cell_type": "code",
   "execution_count": null,
   "id": "5ed986ba",
   "metadata": {},
   "outputs": [],
   "source": []
  },
  {
   "cell_type": "code",
   "execution_count": null,
   "id": "427f4528",
   "metadata": {},
   "outputs": [],
   "source": []
  },
  {
   "cell_type": "code",
   "execution_count": null,
   "id": "fe9bb193",
   "metadata": {},
   "outputs": [],
   "source": []
  },
  {
   "cell_type": "code",
   "execution_count": null,
   "id": "c2c92457",
   "metadata": {},
   "outputs": [],
   "source": []
  },
  {
   "cell_type": "code",
   "execution_count": null,
   "id": "f0ed870f",
   "metadata": {},
   "outputs": [],
   "source": []
  },
  {
   "cell_type": "code",
   "execution_count": null,
   "id": "c29f3c44",
   "metadata": {},
   "outputs": [],
   "source": []
  },
  {
   "cell_type": "code",
   "execution_count": null,
   "id": "235613d4",
   "metadata": {},
   "outputs": [],
   "source": []
  },
  {
   "cell_type": "code",
   "execution_count": null,
   "id": "9298537f",
   "metadata": {},
   "outputs": [],
   "source": []
  },
  {
   "cell_type": "code",
   "execution_count": null,
   "id": "39c68bde",
   "metadata": {},
   "outputs": [],
   "source": []
  },
  {
   "cell_type": "code",
   "execution_count": null,
   "id": "9763eed2",
   "metadata": {},
   "outputs": [],
   "source": []
  },
  {
   "cell_type": "code",
   "execution_count": null,
   "id": "a0a5d5bc",
   "metadata": {},
   "outputs": [],
   "source": []
  },
  {
   "cell_type": "code",
   "execution_count": null,
   "id": "6f3ea3ab",
   "metadata": {},
   "outputs": [],
   "source": []
  },
  {
   "cell_type": "code",
   "execution_count": null,
   "id": "5dc383dd",
   "metadata": {},
   "outputs": [],
   "source": []
  },
  {
   "cell_type": "code",
   "execution_count": null,
   "id": "f58ab2ad",
   "metadata": {},
   "outputs": [],
   "source": []
  },
  {
   "cell_type": "code",
   "execution_count": null,
   "id": "a5701154",
   "metadata": {},
   "outputs": [],
   "source": []
  },
  {
   "cell_type": "code",
   "execution_count": null,
   "id": "71df96f5",
   "metadata": {},
   "outputs": [],
   "source": []
  },
  {
   "cell_type": "code",
   "execution_count": null,
   "id": "0f824fc3",
   "metadata": {},
   "outputs": [],
   "source": []
  },
  {
   "cell_type": "code",
   "execution_count": null,
   "id": "0836095e",
   "metadata": {},
   "outputs": [],
   "source": []
  },
  {
   "cell_type": "code",
   "execution_count": null,
   "id": "ceff938b",
   "metadata": {},
   "outputs": [],
   "source": [
    "\n",
    "\n",
    "\n",
    "\n",
    "\n",
    "\n",
    "\n",
    "\n",
    "\n",
    "\n",
    "\n",
    "\n",
    "\n",
    "\n",
    "\n",
    "\n",
    "\n",
    "\n",
    "\n",
    "\n",
    "\n",
    "\n",
    "\n",
    "\n"
   ]
  }
 ],
 "metadata": {
  "kernelspec": {
   "display_name": "Python 3 (ipykernel)",
   "language": "python",
   "name": "python3"
  },
  "language_info": {
   "codemirror_mode": {
    "name": "ipython",
    "version": 3
   },
   "file_extension": ".py",
   "mimetype": "text/x-python",
   "name": "python",
   "nbconvert_exporter": "python",
   "pygments_lexer": "ipython3",
   "version": "3.8.10"
  }
 },
 "nbformat": 4,
 "nbformat_minor": 5
}
