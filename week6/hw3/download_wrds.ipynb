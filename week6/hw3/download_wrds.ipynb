{
 "cells": [
  {
   "cell_type": "code",
   "execution_count": 1,
   "metadata": {},
   "outputs": [
    {
     "name": "stderr",
     "output_type": "stream",
     "text": [
      "c:\\Users\\Aman\\anaconda3\\lib\\site-packages\\numpy\\_distributor_init.py:30: UserWarning: loaded more than 1 DLL from .libs:\n",
      "c:\\Users\\Aman\\anaconda3\\lib\\site-packages\\numpy\\.libs\\libopenblas.EL2C6PLE4ZYW3ECEVIV3OXXGRN2NRFM2.gfortran-win_amd64.dll\n",
      "c:\\Users\\Aman\\anaconda3\\lib\\site-packages\\numpy\\.libs\\libopenblas.FB5AE2TYXYH2IJRDKGDGQ3XBKLKTF43H.gfortran-win_amd64.dll\n",
      "c:\\Users\\Aman\\anaconda3\\lib\\site-packages\\numpy\\.libs\\libopenblas64__v0.3.21-gcc_10_3_0.dll\n",
      "  warnings.warn(\"loaded more than 1 DLL from .libs:\"\n"
     ]
    },
    {
     "name": "stdout",
     "output_type": "stream",
     "text": [
      "WRDS recommends setting up a .pgpass file.\n",
      "Created .pgpass file successfully.\n",
      "You can create this file yourself at any time with the create_pgpass_file() function.\n",
      "Loading library list...\n",
      "Done\n"
     ]
    }
   ],
   "source": [
    "import wrds\n",
    "\n",
    "# Replace 'your_username' and 'your_api_token' with your WRDS username and API token\n",
    "username = 'amankrishna4'\n",
    "api_token = 'e843bc866607dd003071b8c49a116ffe44bd8db0'\n",
    "\n",
    "# Connect to WRDS using the API token\n",
    "db = wrds.Connection(wrds_username=username, wrds_token=api_token)\n"
   ]
  },
  {
   "cell_type": "code",
   "execution_count": 2,
   "metadata": {},
   "outputs": [
    {
     "ename": "SchemaNotFoundError",
     "evalue": "The famafrench library is not found.",
     "output_type": "error",
     "traceback": [
      "\u001b[1;31m---------------------------------------------------------------------------\u001b[0m",
      "\u001b[1;31mSchemaNotFoundError\u001b[0m                       Traceback (most recent call last)",
      "\u001b[1;32mc:\\Users\\Aman\\Git\\FINM-35000-Topics-in-Econ\\week6\\hw3\\download_wrds.ipynb Cell 2\u001b[0m line \u001b[0;36m<cell line: 6>\u001b[1;34m()\u001b[0m\n\u001b[0;32m      <a href='vscode-notebook-cell:/c%3A/Users/Aman/Git/FINM-35000-Topics-in-Econ/week6/hw3/download_wrds.ipynb#W1sZmlsZQ%3D%3D?line=2'>3</a>\u001b[0m fama_french_dataset \u001b[39m=\u001b[39m \u001b[39m'\u001b[39m\u001b[39mfactors_daily\u001b[39m\u001b[39m'\u001b[39m\n\u001b[0;32m      <a href='vscode-notebook-cell:/c%3A/Users/Aman/Git/FINM-35000-Topics-in-Econ/week6/hw3/download_wrds.ipynb#W1sZmlsZQ%3D%3D?line=4'>5</a>\u001b[0m \u001b[39m# Download the Fama-French Size (SMB) and Value (HML) factors\u001b[39;00m\n\u001b[1;32m----> <a href='vscode-notebook-cell:/c%3A/Users/Aman/Git/FINM-35000-Topics-in-Econ/week6/hw3/download_wrds.ipynb#W1sZmlsZQ%3D%3D?line=5'>6</a>\u001b[0m factors_data \u001b[39m=\u001b[39m db\u001b[39m.\u001b[39;49mget_table(library\u001b[39m=\u001b[39;49mfama_french_library, table\u001b[39m=\u001b[39;49mfama_french_dataset, columns\u001b[39m=\u001b[39;49m[\u001b[39m'\u001b[39;49m\u001b[39mdate\u001b[39;49m\u001b[39m'\u001b[39;49m, \u001b[39m'\u001b[39;49m\u001b[39msmb\u001b[39;49m\u001b[39m'\u001b[39;49m, \u001b[39m'\u001b[39;49m\u001b[39mhml\u001b[39;49m\u001b[39m'\u001b[39;49m])\n\u001b[0;32m      <a href='vscode-notebook-cell:/c%3A/Users/Aman/Git/FINM-35000-Topics-in-Econ/week6/hw3/download_wrds.ipynb#W1sZmlsZQ%3D%3D?line=7'>8</a>\u001b[0m \u001b[39m# Close the connection when done\u001b[39;00m\n\u001b[0;32m      <a href='vscode-notebook-cell:/c%3A/Users/Aman/Git/FINM-35000-Topics-in-Econ/week6/hw3/download_wrds.ipynb#W1sZmlsZQ%3D%3D?line=8'>9</a>\u001b[0m db\u001b[39m.\u001b[39mclose()\n",
      "File \u001b[1;32mc:\\Users\\Aman\\anaconda3\\lib\\site-packages\\wrds\\sql.py:639\u001b[0m, in \u001b[0;36mConnection.get_table\u001b[1;34m(self, library, table, obs, offset, columns, coerce_float, index_col, date_cols)\u001b[0m\n\u001b[0;32m    637\u001b[0m \u001b[39melse\u001b[39;00m:\n\u001b[0;32m    638\u001b[0m     cols \u001b[39m=\u001b[39m \u001b[39m\"\u001b[39m\u001b[39m,\u001b[39m\u001b[39m\"\u001b[39m\u001b[39m.\u001b[39mjoin(columns)\n\u001b[1;32m--> 639\u001b[0m \u001b[39mif\u001b[39;00m \u001b[39mself\u001b[39;49m\u001b[39m.\u001b[39;49m__check_schema_perms(library):\n\u001b[0;32m    640\u001b[0m     sqlstmt \u001b[39m=\u001b[39m (\n\u001b[0;32m    641\u001b[0m         \u001b[39m\"\u001b[39m\u001b[39mSELECT \u001b[39m\u001b[39m{cols}\u001b[39;00m\u001b[39m FROM \u001b[39m\u001b[39m{schema}\u001b[39;00m\u001b[39m.\u001b[39m\u001b[39m{table}\u001b[39;00m\u001b[39m \u001b[39m\u001b[39m{obsstmt}\u001b[39;00m\u001b[39m OFFSET \u001b[39m\u001b[39m{offset}\u001b[39;00m\u001b[39m;\u001b[39m\u001b[39m\"\u001b[39m\u001b[39m.\u001b[39mformat(\n\u001b[0;32m    642\u001b[0m             cols\u001b[39m=\u001b[39mcols,\n\u001b[1;32m   (...)\u001b[0m\n\u001b[0;32m    647\u001b[0m         )\n\u001b[0;32m    648\u001b[0m     )\n\u001b[0;32m    649\u001b[0m     \u001b[39mreturn\u001b[39;00m \u001b[39mself\u001b[39m\u001b[39m.\u001b[39mraw_sql(\n\u001b[0;32m    650\u001b[0m         sqlstmt,\n\u001b[0;32m    651\u001b[0m         coerce_float\u001b[39m=\u001b[39mcoerce_float,\n\u001b[0;32m    652\u001b[0m         index_col\u001b[39m=\u001b[39mindex_col,\n\u001b[0;32m    653\u001b[0m         date_cols\u001b[39m=\u001b[39mdate_cols,\n\u001b[0;32m    654\u001b[0m     )\n",
      "File \u001b[1;32mc:\\Users\\Aman\\anaconda3\\lib\\site-packages\\wrds\\sql.py:372\u001b[0m, in \u001b[0;36mConnection.__check_schema_perms\u001b[1;34m(self, schema)\u001b[0m\n\u001b[0;32m    367\u001b[0m     \u001b[39mraise\u001b[39;00m NotSubscribedError(\n\u001b[0;32m    368\u001b[0m         \u001b[39m\"\u001b[39m\u001b[39mYou do not have permission to access \u001b[39m\u001b[39m\"\u001b[39m\n\u001b[0;32m    369\u001b[0m         \u001b[39m\"\u001b[39m\u001b[39mthe \u001b[39m\u001b[39m{}\u001b[39;00m\u001b[39m library\u001b[39m\u001b[39m\"\u001b[39m\u001b[39m.\u001b[39mformat(schema)\n\u001b[0;32m    370\u001b[0m     )\n\u001b[0;32m    371\u001b[0m \u001b[39melse\u001b[39;00m:\n\u001b[1;32m--> 372\u001b[0m     \u001b[39mraise\u001b[39;00m SchemaNotFoundError(\u001b[39m\"\u001b[39m\u001b[39mThe \u001b[39m\u001b[39m{}\u001b[39;00m\u001b[39m library is not found.\u001b[39m\u001b[39m\"\u001b[39m\u001b[39m.\u001b[39mformat(schema))\n",
      "\u001b[1;31mSchemaNotFoundError\u001b[0m: The famafrench library is not found."
     ]
    }
   ],
   "source": [
    "# Define the Fama-French library and dataset names\n",
    "fama_french_library = 'famafrench'\n",
    "fama_french_dataset = 'factors_daily'\n",
    "\n",
    "# Download the Fama-French Size (SMB) and Value (HML) factors\n",
    "factors_data = db.get_table(library=fama_french_library, table=fama_french_dataset, columns=['date', 'smb', 'hml'])\n",
    "\n",
    "# Close the connection when done\n",
    "db.close()\n",
    "\n",
    "# Display the downloaded data\n",
    "print(factors_data.head())"
   ]
  }
 ],
 "metadata": {
  "kernelspec": {
   "display_name": "base",
   "language": "python",
   "name": "python3"
  },
  "language_info": {
   "codemirror_mode": {
    "name": "ipython",
    "version": 3
   },
   "file_extension": ".py",
   "mimetype": "text/x-python",
   "name": "python",
   "nbconvert_exporter": "python",
   "pygments_lexer": "ipython3",
   "version": "3.9.12"
  }
 },
 "nbformat": 4,
 "nbformat_minor": 2
}
