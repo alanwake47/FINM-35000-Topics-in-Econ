{
 "cells": [
  {
   "cell_type": "markdown",
   "metadata": {},
   "source": [
    "### Read SR letter 11-7, name the three major pillars in model risk management, and in your own words discuss the significance of each pillar in your forecasting process"
   ]
  },
  {
   "cell_type": "markdown",
   "metadata": {},
   "source": [
    "There are three fundamental pillars: Model Development, Model Validation, and Governance, Policies, and Controls.\n",
    "\n",
    "Model Development:\n",
    "In this phase, mathematical and statistical models are crafted to predict various facets of business operations, like financial performance, risk exposure, or customer behavior. Its importance lies in the fact that the accuracy and dependability of these models created during development have a direct impact on the quality of forecasts. A well-crafted model takes into account relevant data, incorporates suitable assumptions, and employs robust methodologies, resulting in more reliable forecasts.\n",
    "\n",
    "In our homework, this corresponds to the initial steps where we decided which variables to utilize and how to incorporate them into the forecasting model. It's akin to setting the technical foundation for the regression model, ensuring it aligns with the available data.\n",
    "\n",
    "Model Validation:\n",
    "Model Validation is the process of rigorously assessing and testing models independently to ensure they continue to provide accurate forecasts as expected. This pillar holds significant weight because it offers an unbiased evaluation of model performance, shedding light on any overlooked weaknesses, biases, or errors from the development phase. Validation serves as a means to identify when models require adjustments or recalibrations to maintain their predictive capabilities.\n",
    "\n",
    "In our project, this corresponds to the phase where we test our model with the available data. We scrutinize whether the model aligns with expectations and, if necessary, make adjustments to enhance its accuracy.\n",
    "\n",
    "Governance, Policies, and Controls:\n",
    "Governance, Policies, and Controls serve as the framework that fosters uniformity, accountability, and compliance across all facets of model risk management. This pillar holds significance as it establishes the rules, procedures, and oversight mechanisms governing model development, validation, and usage. It delineates roles and responsibilities, allocates resources, and sets the organizational tone for effective model risk management.\n",
    "\n",
    "In the context of our homework, this is akin to when our work was reviewed by Lisheng, who provided feedback and guidance. It ensured consistency and accountability in our project, contributing to its overall quality."
   ]
  }
 ],
 "metadata": {
  "language_info": {
   "name": "python"
  }
 },
 "nbformat": 4,
 "nbformat_minor": 2
}
