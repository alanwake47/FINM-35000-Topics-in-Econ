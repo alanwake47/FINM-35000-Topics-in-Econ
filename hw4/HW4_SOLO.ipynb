{
 "cells": [
  {
   "cell_type": "markdown",
   "metadata": {},
   "source": [
    "## 2 Reading Response (15 points)\n",
    "### Optional for extra credit. Must be completed individually."
   ]
  },
  {
   "cell_type": "markdown",
   "metadata": {},
   "source": [
    "#### Read De Marco et al. (2022) and answer the following questions"
   ]
  },
  {
   "cell_type": "markdown",
   "metadata": {},
   "source": [
    "1. What question is the paper trying to answer? In what ways does the analysis in the paper differ from previously\n",
    "documented facts about home bias?"
   ]
  },
  {
   "cell_type": "markdown",
   "metadata": {},
   "source": [
    "The paper is basically asking, \"How do investors' different opinions and expectations about making money from their investments affect where they decide to invest internationally?\" It's like trying to understand if having varied ideas about potential profits influences their choices in global investments.\n",
    "Now, how this study is different from the usual stuff about home bias (where investors usually favor their own country's investments) is pretty interesting. Instead of just focusing on why people often invest more in their home country, this paper digs into how investors pick and choose different foreign investments based on their unique predictions and knowledge. It's kind of like stepping away from the usual \"I'll stick to what I know\" approach and exploring how investors mix things up with their international choices based on what they think will happen in the future. The authors find that both margins of home bias can be explained by a model with two-tiered information costs. The first tier is a fixed cost of acquiring information about a country. The second tier is a variable cost of acquiring more precise information about a country. The authors find that the fixed cost leads to the extensive margin of home bias, while the variable cost leads to the intensive margin."
   ]
  },
  {
   "cell_type": "markdown",
   "metadata": {},
   "source": [
    "2. What do you like about the paper?"
   ]
  },
  {
   "cell_type": "markdown",
   "metadata": {},
   "source": [
    "I liked that the paper provided a new explanation for home bias. This paper is pretty interesting because it looks at investing in a way that's not just the usual stuff. It's like, instead of focusing on why people mostly invest in their own country, the paper checks out how they pick investments in other countries, based on what they think they'll make. It's kind of like getting to peek into the brains of the big investors and seeing how it's different from what most of us would do. The paper throws in some new ideas that make you rethink the whole investing game, especially the parts you can't really predict."
   ]
  },
  {
   "cell_type": "markdown",
   "metadata": {},
   "source": [
    "3. What questions do you have after reading the paper?"
   ]
  },
  {
   "cell_type": "markdown",
   "metadata": {},
   "source": [
    "After reading the paper, here are three simple questions I have:\n",
    "\n",
    "Other Investments: The paper talks a lot about investing in government bonds, but what about other stuff like stocks or real estate? Do investors think the same way about these?\n",
    "\n",
    "Regular People Investing: This paper is all about how big banks invest, but I'm curious, what about regular folks like us? Do we invest in foreign stuff the same way or differently?\n",
    "\n",
    "Tech and Investing: Nowadays, we've got a lot of cool tech for handling money and investments. So, I'm wondering, how might this tech change the way banks and other investors make their choices?"
   ]
  }
 ],
 "metadata": {
  "kernelspec": {
   "display_name": "base",
   "language": "python",
   "name": "python3"
  },
  "language_info": {
   "name": "python",
   "version": "3.9.12"
  }
 },
 "nbformat": 4,
 "nbformat_minor": 2
}
