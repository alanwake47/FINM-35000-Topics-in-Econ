{
 "cells": [
  {
   "cell_type": "markdown",
   "metadata": {},
   "source": [
    "***\n",
    "4. If the numbers you obtain in questions 2 and 3 deviate from those in the paper, why do you think this is? What parts of the data construction and replication were difficult? Was there any additional information the authors could have given you to make this process simpler\n",
    "\n",
    "The numbers obtained in question 2 deviated a little bit from the paper. In the construction of the dataset, we removed the stocks which had a close price at the end of the previous month of $5 or less, if the previous close was not available, the bid-ask was used. This was done to minimize market microstructure effects. Depending on how the authors constructed their dataset, we may have ended up with more or less data depending on how aggressively the authors applied this filter, and the completeness of their dataset. Additionally, for stocks with fewer than 15 observations available in a month, that month's data was removed. If the authors had more complete data, or had some other method of filling in these gaps, then this would help explain the different figures. Because of the potential correlation between the quality of the stock and the availability of the data, it does not seem reasonable to assume that the removed observations would be normally distributed and so has the potential to bias the results for every figure in the table.\n",
    "\n",
    "In cases we had to use the book value of equity at the end of the previous year, the first year of observations would not have a book value. Our assumption was that last year's book value would be roughly equal to the next year's book value, and used backfilling to gain back the first year of available data. If the authors had a different assumption, this may explain why the numbers are slightly different. For instance, in cases where 1 year of data is available, that book value of equity would not have contributed to the overall averages by decile of the BM ratio. Other assumptions regarding missing values would have had similar effects, which the authors did not discuss in detail. If the authors were more clear on how they treated this \"first year\" effect and how they may have used backfilling or forward filling, this would have enabled closer replication.\n",
    "\n",
    "Other possible points:\n",
    "- construction of ILLIQ measure, how did they consider stocks which had no return? How did they scale it to avoid -inf errors. Did they use the return data from CRSP, or construct their own?\n",
    "- Sample construction flows through all the different parts\n",
    "- Selection of controls for regressions / Betas"
   ]
  },
  {
   "cell_type": "markdown",
   "metadata": {},
   "source": [
    "***\n",
    "5. In your view, what are the key takeaways of this paper? How did the results in the tables you replicated contribute to the paper as a whole?\n",
    "\n",
    "The key question investigated by the paper was whether investors experience \"salience\" when they make their investment decisions, whereby they pay attention only to the most extreme pieces of information, foregoing comprehensive analysis. The key takeaways from the paper was that there is evidence that investors make salient decisions that may violate traditional market assumptions regarding efficiency. \n",
    "\n",
    "Additionally, this salience effect is different depending on the type of stock traded, where stocks that are less able to be shorted and thus arbitrage is less easy to correct, the salience prevalence is stronger. The authors hypothesise that this is because in series easier to short and trade rational investors who make decisions based on objective probabilities will buy and sell the asset and correct the prices. This is what Table 5 showed, where the salience effect is strongest in equities that are more difficult to correct arbitrage. The authors identify that salience is strongest among small, illiquid stocks with little professional investing and little coverage by the market.\n",
    "\n",
    "Another key point raised by the authors is whether the salience effect is driven by market inefficiencies or by behavioural reasons. In Table 9, the authors demonstrate that unlike the reversal effect, which has weakened over time due to market efficiency rising over time, the salience effect has not changed. This provides evidence that there are stronger behavioural effects driving salience and its effect is not simply being mistaken for market structure inefficiency.\n",
    "\n",
    "Overall, the paper provides a compelling argument that not only do a significant proportion of investors exhibit the salience effect, but also that this effect is consistent across different time periods and a wide range of controls. For investors, this suggests that there may be significant mispricing in stocks more likely to be affected by the salience effect, such as for illiquid stocks with recent negative news.\n",
    "\n"
   ]
  }
 ],
 "metadata": {
  "language_info": {
   "name": "python"
  }
 },
 "nbformat": 4,
 "nbformat_minor": 2
}
